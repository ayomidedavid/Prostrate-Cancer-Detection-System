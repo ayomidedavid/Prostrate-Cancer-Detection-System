{
  "cells": [
    {
      "cell_type": "code",
      "execution_count": 1,
      "metadata": {
        "colab": {
          "base_uri": "https://localhost:8080/",
          "height": 685
        },
        "id": "Vi7OkizStbRi",
        "outputId": "c2348a69-8634-4b67-97a0-99b9965f80f2"
      },
      "outputs": [
        {
          "name": "stdout",
          "output_type": "stream",
          "text": [
            "Accuracy: 96.88%\n",
            "Precision: 100.00%\n",
            "Recall: 93.94%\n",
            "F1 Score: 96.88%\n",
            "AUC-ROC: 96.97%\n",
            "AUC-PR: 97.06%\n",
            "MCC: 93.94%\n"
          ]
        },
        {
          "data": {
            "image/png": "[encoded data removed]",
            "text/plain": [
              "<Figure size 800x600 with 2 Axes>"
            ]
          },
          "metadata": {},
          "output_type": "display_data"
        }
      ],
      "source": [
        "import pandas as pd\n",
        "from sklearn.model_selection import train_test_split\n",
        "from sklearn.ensemble import RandomForestClassifier\n",
        "from sklearn.neighbors import KNeighborsClassifier\n",
        "from sklearn.tree import DecisionTreeClassifier\n",
        "from xgboost import XGBClassifier\n",
        "from sklearn.ensemble import StackingClassifier\n",
        "from sklearn.metrics import accuracy_score, precision_score, recall_score, f1_score, confusion_matrix, roc_auc_score, average_precision_score, matthews_corrcoef\n",
        "import seaborn as sns\n",
        "import matplotlib.pyplot as plt\n",
        "from sklearn.preprocessing import LabelEncoder\n",
        "\n",
        "# Load your resampled dataset (replace 'final_dataset.csv' with the actual file path)\n",
        "resampled_df = pd.read_csv('smote.csv')\n",
        "\n",
        "# Assuming 'diagnosis_result' is the column containing the class diagnosis_result (0 or 1)\n",
        "X = resampled_df[['radius', 'texture', 'perimeter', 'area', 'smoothness', 'compactness', 'symmetry', 'fractal_dimension']]\n",
        "y = resampled_df['diagnosis_result']\n",
        "\n",
        "# Encode the target variable\n",
        "label_encoder = LabelEncoder()\n",
        "y = label_encoder.fit_transform(y)\n",
        "\n",
        "# Split the dataset into training and testing sets\n",
        "X_train, X_test, y_train, y_test = train_test_split(X, y, test_size=0.2, random_state=42)\n",
        "\n",
        "# Define individual base classifiers\n",
        "random_forest_classifier = RandomForestClassifier(random_state=42)\n",
        "knn_classifier = KNeighborsClassifier()\n",
        "decision_tree_classifier = DecisionTreeClassifier(random_state=42)\n",
        "xgb_classifier = XGBClassifier(random_state=42)\n",
        "\n",
        "# Create a stack of classifiers using a meta-classifier (Logistic Regression in this case)\n",
        "stacked_classifier = StackingClassifier(\n",
        "    estimators=[\n",
        "        ('random_forest', random_forest_classifier),\n",
        "        ('knn', knn_classifier),\n",
        "        ('decision_tree', decision_tree_classifier),\n",
        "        ('xgb', xgb_classifier)\n",
        "    ],\n",
        "    final_estimator=XGBClassifier(random_state=42),  # Meta-classifier\n",
        "    stack_method='auto',  # Auto mode selects the best method based on the base estimators\n",
        "    passthrough=True  # Allows the base classifiers to be used directly in prediction\n",
        ")\n",
        "\n",
        "# Train the stacked ensemble model\n",
        "stacked_classifier.fit(X_train, y_train)\n",
        "\n",
        "# Make predictions on the test set\n",
        "y_pred = stacked_classifier.predict(X_test)\n",
        "\n",
        "# Evaluate the stacked ensemble model\n",
        "accuracy = accuracy_score(y_test, y_pred) * 100\n",
        "precision = precision_score(y_test, y_pred) * 100\n",
        "recall = recall_score(y_test, y_pred) * 100\n",
        "f1 = f1_score(y_test, y_pred) * 100\n",
        "conf_matrix = confusion_matrix(y_test, y_pred)\n",
        "roc_auc = roc_auc_score(y_test, y_pred) * 100\n",
        "pr_auc = average_precision_score(y_test, y_pred) * 100\n",
        "mcc = matthews_corrcoef(y_test, y_pred) * 100\n",
        "\n",
        "# Print the evaluation metrics in percentage format\n",
        "print(f\"Accuracy: {accuracy:.2f}%\")\n",
        "print(f\"Precision: {precision:.2f}%\")\n",
        "print(f\"Recall: {recall:.2f}%\")\n",
        "print(f\"F1 Score: {f1:.2f}%\")\n",
        "print(f\"AUC-ROC: {roc_auc:.2f}%\")\n",
        "print(f\"AUC-PR: {pr_auc:.2f}%\")\n",
        "print(f\"MCC: {mcc:.2f}%\")\n",
        "\n",
        "# Plot a graphical representation of the confusion matrix\n",
        "plt.figure(figsize=(8, 6))\n",
        "sns.heatmap(conf_matrix, annot=True, fmt='d', cmap='Blues', xticklabels=stacked_classifier.classes_, yticklabels=stacked_classifier.classes_)\n",
        "plt.title('Confusion Matrix')\n",
        "plt.xlabel('Predicted')\n",
        "plt.ylabel('True')\n",
        "plt.show()"
      ]
    },
    {
      "cell_type": "code",
      "execution_count": null,
      "metadata": {},
      "outputs": [],
      "source": [
        "import pickle\n",
        "# Save the trained model using pickle\n",
        "with open('stacked_classifier_model.pkl', 'wb') as model_file:\n",
        "    pickle.dump(stacked_classifier, model_file)"
      ]
    }
  ],
  "metadata": {
    "colab": {
      "provenance": []
    },
    "kernelspec": {
      "display_name": "Python 3",
      "name": "python3"
    },
    "language_info": {
      "codemirror_mode": {
        "name": "ipython",
        "version": 3
      },
      "file_extension": ".py",
      "mimetype": "text/x-python",
      "name": "python",
      "nbconvert_exporter": "python",
      "pygments_lexer": "ipython3",
      "version": "3.11.4"
    }
  },
  "nbformat": 4,
  "nbformat_minor": 0
}
